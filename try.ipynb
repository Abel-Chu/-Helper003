{
 "cells": [
  {
   "cell_type": "code",
   "execution_count": 1,
   "metadata": {},
   "outputs": [
    {
     "name": "stdout",
     "output_type": "stream",
     "text": [
      "<class 'urllib.request.Request'>\n",
      "<class 'dict'>\n",
      "{'base': 'stations',\n",
      " 'clouds': {'all': 75},\n",
      " 'cod': 200,\n",
      " 'coord': {'lat': 25.05, 'lon': 121.53},\n",
      " 'dt': 1609230292,\n",
      " 'id': 1668341,\n",
      " 'main': {'feels_like': 23.05,\n",
      "          'humidity': 88,\n",
      "          'pressure': 1012,\n",
      "          'temp': 22.18,\n",
      "          'temp_max': 22.78,\n",
      "          'temp_min': 21.67},\n",
      " 'name': 'Taipei',\n",
      " 'sys': {'country': 'TW',\n",
      "         'id': 7949,\n",
      "         'sunrise': 1609195079,\n",
      "         'sunset': 1609233214,\n",
      "         'type': 1},\n",
      " 'timezone': 28800,\n",
      " 'visibility': 9000,\n",
      " 'weather': [{'description': '多雲', 'icon': '04d', 'id': 803, 'main': 'Clouds'}],\n",
      " 'wind': {'deg': 270, 'speed': 4.1}}\n",
      "多雲\n"
     ]
    }
   ],
   "source": [
    "from pprint import pprint\n",
    "import requests\n",
    "import json\n",
    "import urllib.request as utl\n",
    "urls='http://api.openweathermap.org/data/2.5/weather?q=Taipei&units=metric&APPID=d86795050bdc37e209d5cf3fedebfb2d&lang=zh_tw' # your urls here\n",
    "r = utl.Request(urls)\n",
    "print(type(r))\n",
    "\n",
    "\n",
    "x = utl.urlopen(r)\n",
    "\n",
    "z = x.read().decode('utf-8')\n",
    "weather_data = json.loads(z)\n",
    "print(type(weather_data))\n",
    "pprint (weather_data)\n",
    "\n",
    "\n",
    "response = requests.get(urls)\n",
    "response.raise_for_status()\n",
    "\n",
    "# Load JSON data into a Pythn variable\n",
    "weatherData = json.loads(response.text)\n",
    "# Print weather descriptions.\n",
    "\n",
    "w = weatherData['weather']\n",
    "print( w[0]['description'])\n"
   ]
  },
  {
   "cell_type": "code",
   "execution_count": 1,
   "metadata": {},
   "outputs": [
    {
     "ename": "HTTPError",
     "evalue": "401 Client Error: Unauthorized for url: http://api.openweathermap.org/data/2.5/forecast/daily?q=-fTaiwan/home/pi/.local/share/jupyter/runtime/kernel-a6378d98-4b4d-42dd-9a80-c3ab5ab9b173.json&cnt=3",
     "output_type": "error",
     "traceback": [
      "\u001b[0;31m---------------------------------------------------------------------------\u001b[0m",
      "\u001b[0;31mHTTPError\u001b[0m                                 Traceback (most recent call last)",
      "\u001b[0;32m<ipython-input-1-cd4ffd9e7b0b>\u001b[0m in \u001b[0;36m<module>\u001b[0;34m()\u001b[0m\n\u001b[1;32m     13\u001b[0m \u001b[0murl\u001b[0m \u001b[0;34m=\u001b[0m \u001b[0;34m'http://api.openweathermap.org/data/2.5/forecast/daily?q=%s&cnt=3'\u001b[0m \u001b[0;34m%\u001b[0m \u001b[0;34m(\u001b[0m\u001b[0mlocation\u001b[0m\u001b[0;34m)\u001b[0m\u001b[0;34m\u001b[0m\u001b[0m\n\u001b[1;32m     14\u001b[0m \u001b[0mresponse\u001b[0m \u001b[0;34m=\u001b[0m \u001b[0mrequests\u001b[0m\u001b[0;34m.\u001b[0m\u001b[0mget\u001b[0m\u001b[0;34m(\u001b[0m\u001b[0murl\u001b[0m\u001b[0;34m)\u001b[0m\u001b[0;34m\u001b[0m\u001b[0m\n\u001b[0;32m---> 15\u001b[0;31m \u001b[0mresponse\u001b[0m\u001b[0;34m.\u001b[0m\u001b[0mraise_for_status\u001b[0m\u001b[0;34m(\u001b[0m\u001b[0;34m)\u001b[0m\u001b[0;34m\u001b[0m\u001b[0m\n\u001b[0m\u001b[1;32m     16\u001b[0m \u001b[0;34m\u001b[0m\u001b[0m\n\u001b[1;32m     17\u001b[0m \u001b[0;31m# Load JSON data into a Python variable\u001b[0m\u001b[0;34m\u001b[0m\u001b[0;34m\u001b[0m\u001b[0m\n",
      "\u001b[0;32m~/berryconda3/lib/python3.6/site-packages/requests/models.py\u001b[0m in \u001b[0;36mraise_for_status\u001b[0;34m(self)\u001b[0m\n\u001b[1;32m    941\u001b[0m \u001b[0;34m\u001b[0m\u001b[0m\n\u001b[1;32m    942\u001b[0m         \u001b[0;32mif\u001b[0m \u001b[0mhttp_error_msg\u001b[0m\u001b[0;34m:\u001b[0m\u001b[0;34m\u001b[0m\u001b[0m\n\u001b[0;32m--> 943\u001b[0;31m             \u001b[0;32mraise\u001b[0m \u001b[0mHTTPError\u001b[0m\u001b[0;34m(\u001b[0m\u001b[0mhttp_error_msg\u001b[0m\u001b[0;34m,\u001b[0m \u001b[0mresponse\u001b[0m\u001b[0;34m=\u001b[0m\u001b[0mself\u001b[0m\u001b[0;34m)\u001b[0m\u001b[0;34m\u001b[0m\u001b[0m\n\u001b[0m\u001b[1;32m    944\u001b[0m \u001b[0;34m\u001b[0m\u001b[0m\n\u001b[1;32m    945\u001b[0m     \u001b[0;32mdef\u001b[0m \u001b[0mclose\u001b[0m\u001b[0;34m(\u001b[0m\u001b[0mself\u001b[0m\u001b[0;34m)\u001b[0m\u001b[0;34m:\u001b[0m\u001b[0;34m\u001b[0m\u001b[0m\n",
      "\u001b[0;31mHTTPError\u001b[0m: 401 Client Error: Unauthorized for url: http://api.openweathermap.org/data/2.5/forecast/daily?q=-fTaiwan/home/pi/.local/share/jupyter/runtime/kernel-a6378d98-4b4d-42dd-9a80-c3ab5ab9b173.json&cnt=3"
     ]
    }
   ],
   "source": [
    "#! python3\n",
    "# quickWeather.py - Prints the weather for a location from the command line.\n",
    "\n",
    "import json, requests, sys\n",
    "\n",
    "# Compute location from command line arguments.\n",
    "if len(sys.argv) < 2:\n",
    "\tprint('Usage: quickWeather.py location')\n",
    "\tsys.exit()\n",
    "location = 'Taiwan'.join(sys.argv[1:])\n",
    "\n",
    "# Download the JSON data from OpenWeatherMap.org's API\n",
    "url = 'http://api.openweathermap.org/data/2.5/forecast/daily?q=%s&cnt=3' % (location)\n",
    "response = requests.get(url)\n",
    "response.raise_for_status()\n",
    "\n",
    "# Load JSON data into a Python variable\n",
    "weatherData = json.loads(response.text)\n",
    "# Print weather descriptions.\n",
    "w = weatherData['list']\n",
    "print('Current weather in %s: ' % (location))\n",
    "print(w[0]['weather'][0]['main'], '-', w[0]['weather'][0]['description'])\n",
    "print()\n",
    "print('Tomorrow:')\n",
    "print(w[1]['weather'][0]['main'], '-', w[1]['weather'][0]['description'])\n",
    "print()\n",
    "print('Day after tomorrow:')\n",
    "print(w[2]['weather'][0]['main'], '-', w[2]['weather'][0]['description'])"
   ]
  },
  {
   "cell_type": "code",
   "execution_count": 2,
   "metadata": {},
   "outputs": [
    {
     "ename": "AttributeError",
     "evalue": "'Request' object has no attribute 'weather'",
     "output_type": "error",
     "traceback": [
      "\u001b[0;31m---------------------------------------------------------------------------\u001b[0m",
      "\u001b[0;31mAttributeError\u001b[0m                            Traceback (most recent call last)",
      "\u001b[0;32m<ipython-input-2-4ed4c7c908ff>\u001b[0m in \u001b[0;36m<module>\u001b[0;34m()\u001b[0m\n\u001b[1;32m     18\u001b[0m     \u001b[0mdata\u001b[0m\u001b[0;34m[\u001b[0m\u001b[0mi\u001b[0m\u001b[0;34m]\u001b[0m \u001b[0;34m=\u001b[0m \u001b[0mweather_data\u001b[0m\u001b[0;34m.\u001b[0m\u001b[0msplit\u001b[0m\u001b[0;34m(\u001b[0m\u001b[0;34m'\\\"'\u001b[0m\u001b[0;34m,\u001b[0m\u001b[0;34m-\u001b[0m\u001b[0;36m1\u001b[0m\u001b[0;34m)\u001b[0m\u001b[0;34m[\u001b[0m\u001b[0mi\u001b[0m\u001b[0;34m]\u001b[0m\u001b[0;34m\u001b[0m\u001b[0m\n\u001b[1;32m     19\u001b[0m \u001b[0;31m#put useful data into variable\u001b[0m\u001b[0;34m\u001b[0m\u001b[0;34m\u001b[0m\u001b[0m\n\u001b[0;32m---> 20\u001b[0;31m \u001b[0mcloud_description\u001b[0m \u001b[0;34m=\u001b[0m \u001b[0mr\u001b[0m\u001b[0;34m.\u001b[0m\u001b[0mweather\u001b[0m\u001b[0;34m.\u001b[0m\u001b[0mdescription\u001b[0m\u001b[0;34m\u001b[0m\u001b[0m\n\u001b[0m\u001b[1;32m     21\u001b[0m \u001b[0mcurrent_temp\u001b[0m \u001b[0;34m=\u001b[0m \u001b[0mdata\u001b[0m\u001b[0;34m[\u001b[0m\u001b[0;36m19\u001b[0m\u001b[0;34m]\u001b[0m\u001b[0;34m\u001b[0m\u001b[0m\n\u001b[1;32m     22\u001b[0m \u001b[0mfeels_like_temp\u001b[0m \u001b[0;34m=\u001b[0m \u001b[0mdata\u001b[0m\u001b[0;34m[\u001b[0m\u001b[0;36m21\u001b[0m\u001b[0;34m]\u001b[0m\u001b[0;34m\u001b[0m\u001b[0m\n",
      "\u001b[0;31mAttributeError\u001b[0m: 'Request' object has no attribute 'weather'"
     ]
    }
   ],
   "source": [
    "urls='http://api.openweathermap.org/data/2.5/weather?q=Taipei&units=metric&APPID=d86795050bdc37e209d5cf3fedebfb2d&lang=zh_tw' # your urls here\n",
    "r = utl.Request(urls)\n",
    "\n",
    "\n",
    "x = utl.urlopen(r)\n",
    "weather_data = x.read().decode('utf-8')\n",
    "weather_data=weather_data.replace('{','')\n",
    "weather_data=weather_data.replace('}','')\n",
    "weather_data=weather_data.replace('[','')\n",
    "weather_data=weather_data.replace(']','')\n",
    "weather_data=weather_data.replace(',','')\n",
    "weather_data=weather_data.replace(':','')\n",
    "weather_data=weather_data.replace('\\\"\"','\\\"')\n",
    "\n",
    "\n",
    "data = [None] * len(weather_data.split('\\\"'))\n",
    "for i in range(len(weather_data.split('\\\"'))):\n",
    "    data[i] = weather_data.split('\\\"',-1)[i]\n",
    "#put useful data into variable\n",
    "cloud_description = ata[19]\n",
    "current_temp = data[19]\n",
    "feels_like_temp = data[21]\n",
    "temp_min = data[23]\n",
    "temp_max = data[25]\n",
    "humidity = data[29]\n",
    "wind_speed = data[34]\n",
    "    \n",
    "cloud_description,current_temp,feels_like_temp,temp_min,temp_max,humidity,wind_speed"
   ]
  },
  {
   "cell_type": "code",
   "execution_count": null,
   "metadata": {},
   "outputs": [],
   "source": []
  }
 ],
 "metadata": {
  "kernelspec": {
   "display_name": "Python 3",
   "language": "python",
   "name": "python3"
  },
  "language_info": {
   "codemirror_mode": {
    "name": "ipython",
    "version": 3
   },
   "file_extension": ".py",
   "mimetype": "text/x-python",
   "name": "python",
   "nbconvert_exporter": "python",
   "pygments_lexer": "ipython3",
   "version": "3.6.1"
  }
 },
 "nbformat": 4,
 "nbformat_minor": 4
}
